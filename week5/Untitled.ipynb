{
 "cells": [
  {
   "cell_type": "code",
   "execution_count": 7,
   "metadata": {},
   "outputs": [
    {
     "name": "stdout",
     "output_type": "stream",
     "text": [
      "image shape:  (293, 323, 3)\n"
     ]
    }
   ],
   "source": [
    "from matplotlib import pyplot as plt\n",
    "import numpy as np\n",
    "import argparse\n",
    "import math\n",
    "import cv2\n",
    "\n",
    "# ------------------ Do Hough Line Transform ------------------ #\n",
    "def hough_line(edge):\n",
    "    # Theta 0 - 180 degree\n",
    "    # Calculate 'cos' and 'sin' value ahead to improve running time\n",
    "    theta = np.arange(0, 180, 1)\n",
    "    cos = np.cos(np.deg2rad(theta))\n",
    "    sin = np.sin(np.deg2rad(theta))\n",
    "\n",
    "    # Generate a accumulator matrix to store the values\n",
    "    rho_range = round(math.sqrt(edge.shape[0]**2 + edge.shape[1]**2))\n",
    "    accumulator = np.zeros((2 * rho_range, len(theta)), dtype=np.uint8)\n",
    "\n",
    "    # Threshold to get edges pixel location (x,y)\n",
    "    edge_pixels = np.where(edge == 255)\n",
    "    coordinates = list(zip(edge_pixels[0], edge_pixels[1]))\n",
    "\n",
    "    # Calculate rho value for each edge location (x,y) with all the theta range\n",
    "    for p in range(len(coordinates)):\n",
    "        for t in range(len(theta)):\n",
    "            rho = int(round(coordinates[p][1] * cos[t] + coordinates[p][0] * sin[t]))\n",
    "            accumulator[rho, t] += 2 # Suppose add 1 only, Just want to get clear result\n",
    "\n",
    "    return accumulator\n",
    "\n",
    "# -------------------------- main -------------------------- #\n",
    "if __name__ == '__main__':\n",
    "    # read one input from terminal\n",
    "    # command line >> python hough_line_transform.py -i line.png\n",
    "    # command line >> python hough_line_transform.py -i square.png\n",
    "\n",
    "    ap = argparse.ArgumentParser()\n",
    "    ap.add_argument('-i', '--image', required = True, help = \"Path to source image\")\n",
    "    args = vars(ap.parse_args())\n",
    "\n",
    "    # read image then convert to grayscale and find the edges by Canny Edge Detection\n",
    "    image = cv2.imread(args[\"image\"])\n",
    "    grayscale = cv2.cvtColor(image, cv2.COLOR_BGR2GRAY)\n",
    "    edges = cv2.Canny(grayscale,50,150)\n",
    "\n",
    "    # Function to do hough line transform\n",
    "    accumulator = hough_line(edges)\n",
    "\n",
    "    # Threshold some high values then draw the line\n",
    "    edge_pixels = np.where(accumulator > 110)\n",
    "    coordinates = list(zip(edge_pixels[0], edge_pixels[1]))\n",
    "\n",
    "    # Use line equation to draw detected line on an original image\n",
    "    for i in range(0, len(coordinates)):\n",
    "        a = np.cos(np.deg2rad(coordinates[i][1]))\n",
    "        b = np.sin(np.deg2rad(coordinates[i][1]))\n",
    "        x0 = a*coordinates[i][0]\n",
    "        y0 = b*coordinates[i][0]\n",
    "        x1 = int(x0 + 1000*(-b))\n",
    "        y1 = int(y0 + 1000*(a))\n",
    "        x2 = int(x0 - 1000*(-b))\n",
    "        y2 = int(y0 - 1000*(a))\n",
    "\n",
    "        cv2.line(image,(x1,y1),(x2,y2),(0,255,0),1)\n",
    "\n",
    "    # show result\n",
    "    plt.subplot(121), plt.imshow(image)\n",
    "    plt.subplot(122), plt.imshow(accumulator)\n",
    "    plt.show()"
   ]
  },
  {
   "cell_type": "code",
   "execution_count": null,
   "metadata": {},
   "outputs": [],
   "source": []
  }
 ],
 "metadata": {
  "kernelspec": {
   "display_name": "Python 3",
   "language": "python",
   "name": "python3"
  },
  "language_info": {
   "codemirror_mode": {
    "name": "ipython",
    "version": 3
   },
   "file_extension": ".py",
   "mimetype": "text/x-python",
   "name": "python",
   "nbconvert_exporter": "python",
   "pygments_lexer": "ipython3",
   "version": "3.8.3"
  }
 },
 "nbformat": 4,
 "nbformat_minor": 4
}
